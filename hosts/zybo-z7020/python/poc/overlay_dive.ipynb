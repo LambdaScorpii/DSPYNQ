{
 "cells": [
  {
   "cell_type": "code",
   "execution_count": 1,
   "metadata": {},
   "outputs": [
    {
     "data": {
      "application/javascript": "\ntry {\nrequire(['notebook/js/codecell'], function(codecell) {\n  codecell.CodeCell.options_default.highlight_modes[\n      'magic_text/x-csrc'] = {'reg':[/^%%microblaze/]};\n  Jupyter.notebook.events.one('kernel_ready.Kernel', function(){\n      Jupyter.notebook.get_cells().map(function(cell){\n          if (cell.cell_type == 'code'){ cell.auto_highlight(); } }) ;\n  });\n});\n} catch (e) {};\n"
     },
     "metadata": {},
     "output_type": "display_data"
    },
    {
     "data": {
      "application/javascript": "\ntry {\nrequire(['notebook/js/codecell'], function(codecell) {\n  codecell.CodeCell.options_default.highlight_modes[\n      'magic_text/x-csrc'] = {'reg':[/^%%pybind11/]};\n  Jupyter.notebook.events.one('kernel_ready.Kernel', function(){\n      Jupyter.notebook.get_cells().map(function(cell){\n          if (cell.cell_type == 'code'){ cell.auto_highlight(); } }) ;\n  });\n});\n} catch (e) {};\n"
     },
     "metadata": {},
     "output_type": "display_data"
    }
   ],
   "source": [
    "from pynq import Overlay\n",
    "\n",
    "overlay = Overlay(\"/home/py/python/modules/adder/pl_adder.bit\")"
   ]
  },
  {
   "cell_type": "code",
   "execution_count": 2,
   "metadata": {},
   "outputs": [
    {
     "data": {
      "text/plain": [
       "'/home/py/python/modules/adder/pl_adder.bit'"
      ]
     },
     "execution_count": 2,
     "metadata": {},
     "output_type": "execute_result"
    }
   ],
   "source": [
    "overlay.bitfile_name"
   ]
  },
  {
   "cell_type": "code",
   "execution_count": 12,
   "metadata": {},
   "outputs": [
    {
     "data": {
      "text/plain": [
       "{'type': 'xilinx.com:hls:add:1.0',\n",
       " 'mem_id': 's_axi_control',\n",
       " 'memtype': 'REGISTER',\n",
       " 'gpio': {},\n",
       " 'interrupts': {},\n",
       " 'parameters': {'C_S_AXI_CONTROL_ADDR_WIDTH': '6',\n",
       "  'C_S_AXI_CONTROL_DATA_WIDTH': '32',\n",
       "  'Component_Name': 'add_add_0_0',\n",
       "  'clk_period': '10',\n",
       "  'machine': '64',\n",
       "  'combinational': '1',\n",
       "  'latency': '0',\n",
       "  'II': 'x',\n",
       "  'EDK_IPTYPE': 'PERIPHERAL',\n",
       "  'C_S_AXI_CONTROL_BASEADDR': '0x40010000',\n",
       "  'C_S_AXI_CONTROL_HIGHADDR': '0x4001FFFF',\n",
       "  'ADDR_WIDTH': '6',\n",
       "  'DATA_WIDTH': '32',\n",
       "  'PROTOCOL': 'AXI4LITE',\n",
       "  'READ_WRITE_MODE': 'READ_WRITE',\n",
       "  'FREQ_HZ': '50000000',\n",
       "  'ID_WIDTH': '0',\n",
       "  'AWUSER_WIDTH': '0',\n",
       "  'ARUSER_WIDTH': '0',\n",
       "  'WUSER_WIDTH': '0',\n",
       "  'RUSER_WIDTH': '0',\n",
       "  'BUSER_WIDTH': '0',\n",
       "  'HAS_BURST': '0',\n",
       "  'HAS_LOCK': '0',\n",
       "  'HAS_PROT': '0',\n",
       "  'HAS_CACHE': '0',\n",
       "  'HAS_QOS': '0',\n",
       "  'HAS_REGION': '0',\n",
       "  'HAS_WSTRB': '1',\n",
       "  'HAS_BRESP': '1',\n",
       "  'HAS_RRESP': '1',\n",
       "  'SUPPORTS_NARROW_BURST': '0',\n",
       "  'NUM_READ_OUTSTANDING': '1',\n",
       "  'NUM_WRITE_OUTSTANDING': '1',\n",
       "  'MAX_BURST_LENGTH': '1',\n",
       "  'PHASE': '0.0',\n",
       "  'CLK_DOMAIN': 'add_processing_system7_0_0_FCLK_CLK0',\n",
       "  'NUM_READ_THREADS': '1',\n",
       "  'NUM_WRITE_THREADS': '1',\n",
       "  'RUSER_BITS_PER_BYTE': '0',\n",
       "  'WUSER_BITS_PER_BYTE': '0',\n",
       "  'INSERT_VIP': '0'},\n",
       " 'registers': {'a': {'address_offset': 16,\n",
       "   'size': 32,\n",
       "   'access': 'write-only',\n",
       "   'description': 'Data signal of a',\n",
       "   'fields': {'a': {'bit_offset': 0,\n",
       "     'bit_width': 32,\n",
       "     'access': 'write-only',\n",
       "     'description': 'Bit 31 to 0 of a'}}},\n",
       "  'b': {'address_offset': 24,\n",
       "   'size': 32,\n",
       "   'access': 'write-only',\n",
       "   'description': 'Data signal of b',\n",
       "   'fields': {'b': {'bit_offset': 0,\n",
       "     'bit_width': 32,\n",
       "     'access': 'write-only',\n",
       "     'description': 'Bit 31 to 0 of b'}}},\n",
       "  'c': {'address_offset': 32,\n",
       "   'size': 32,\n",
       "   'access': 'read-only',\n",
       "   'description': 'Data signal of c',\n",
       "   'fields': {'c': {'bit_offset': 0,\n",
       "     'bit_width': 32,\n",
       "     'access': 'read-only',\n",
       "     'description': 'Bit 31 to 0 of c'}}},\n",
       "  'c_ctrl': {'address_offset': 36,\n",
       "   'size': 32,\n",
       "   'access': 'read-only',\n",
       "   'description': 'Control signal of c',\n",
       "   'fields': {'c_ap_vld': {'bit_offset': 0,\n",
       "     'bit_width': 1,\n",
       "     'access': 'read-only',\n",
       "     'description': 'Control signal c_ap_vld'},\n",
       "    'RESERVED': {'bit_offset': 1,\n",
       "     'bit_width': 31,\n",
       "     'access': 'read-only',\n",
       "     'description': 'Reserved.  0s on read.'}}}},\n",
       " 'driver': pynq.overlay.DefaultIP,\n",
       " 'device': <pynq.pl_server.embedded_device.EmbeddedDevice at 0xb3851778>,\n",
       " 'state': None,\n",
       " 'bdtype': None,\n",
       " 'phys_addr': 1073807360,\n",
       " 'addr_range': 65536,\n",
       " 'fullpath': 'scalar_add'}"
      ]
     },
     "execution_count": 12,
     "metadata": {},
     "output_type": "execute_result"
    }
   ],
   "source": [
    "overlay.ip_dict.get(\"scalar_add\")"
   ]
  },
  {
   "cell_type": "code",
   "execution_count": 7,
   "metadata": {},
   "outputs": [
    {
     "name": "stdout",
     "output_type": "stream",
     "text": [
      "\u001b[0;31mType:\u001b[0m        DefaultIP\n",
      "\u001b[0;31mString form:\u001b[0m <pynq.overlay.DefaultIP object at 0xacf6e8f8>\n",
      "\u001b[0;31mFile:\u001b[0m        /usr/local/share/pynq-venv/lib/python3.10/site-packages/pynq/overlay.py\n",
      "\u001b[0;31mDocstring:\u001b[0m  \n",
      "Driver for an IP without a more specific driver\n",
      "\n",
      "This driver wraps an MMIO device and provides a base class\n",
      "for more specific drivers written later. It also provides\n",
      "access to GPIO outputs and interrupts inputs via attributes. More specific\n",
      "drivers should inherit from `DefaultIP` and include a\n",
      "`bindto` entry containing all of the IP that the driver\n",
      "should bind to. Subclasses meeting these requirements will\n",
      "automatically be registered.\n",
      "\n",
      "Attributes\n",
      "----------\n",
      "mmio : pynq.MMIO\n",
      "    Underlying MMIO driver for the device\n",
      "_interrupts : dict\n",
      "    Subset of the PL.interrupt_pins related to this IP\n",
      "_gpio : dict\n",
      "    Subset of the PL.gpio_dict related to this IP\n"
     ]
    }
   ],
   "source": [
    "adder = overlay.scalar_add\n",
    "\n",
    "adder?"
   ]
  },
  {
   "cell_type": "code",
   "execution_count": 8,
   "metadata": {},
   "outputs": [
    {
     "data": {
      "text/plain": [
       "8"
      ]
     },
     "execution_count": 8,
     "metadata": {},
     "output_type": "execute_result"
    }
   ],
   "source": [
    "adder.write(0x10, 3)\n",
    "adder.write(0x18, 5)\n",
    "adder.read(0x20)"
   ]
  }
 ],
 "metadata": {
  "kernelspec": {
   "display_name": "Python 3 (ipykernel)",
   "language": "python",
   "name": "python3"
  }
 },
 "nbformat": 4,
 "nbformat_minor": 2
}
